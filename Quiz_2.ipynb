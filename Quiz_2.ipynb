{
  "nbformat": 4,
  "nbformat_minor": 0,
  "metadata": {
    "colab": {
      "name": "Quiz 2.ipynb",
      "provenance": [],
      "collapsed_sections": [],
      "authorship_tag": "ABX9TyMMVALZvtimapx2tKY+IVnq",
      "include_colab_link": true
    },
    "kernelspec": {
      "name": "python3",
      "display_name": "Python 3"
    },
    "language_info": {
      "name": "python"
    }
  },
  "cells": [
    {
      "cell_type": "markdown",
      "metadata": {
        "id": "view-in-github",
        "colab_type": "text"
      },
      "source": [
        "<a href=\"https://colab.research.google.com/github/ahmedtalhabahadir/Artificial-Intelligence-in-Healthcare/blob/main/Quiz_2.ipynb\" target=\"_parent\"><img src=\"https://colab.research.google.com/assets/colab-badge.svg\" alt=\"Open In Colab\"/></a>"
      ]
    },
    {
      "cell_type": "code",
      "execution_count": null,
      "metadata": {
        "colab": {
          "base_uri": "https://localhost:8080/"
        },
        "id": "gi09NvkpAHqi",
        "outputId": "44cea4d9-7899-4b1d-c6de-df38d580f6b7"
      },
      "outputs": [
        {
          "output_type": "stream",
          "name": "stdout",
          "text": [
            "37\n",
            "n\n",
            "!\n"
          ]
        }
      ],
      "source": [
        "# Question 1\n",
        "Name = 'Python is a general purpose language!'\n",
        "print(len(Name))\n",
        "print(Name[5]) # The character corresponding to index 5 is the letter n.\n",
        "               # This is because indexes start from 0, not 1.\n",
        "print(Name[36]) # The length of Name is 37, but again, we start from 0,\n",
        "                # so I have to write 36 if I want the last character."
      ]
    },
    {
      "cell_type": "code",
      "source": [
        "# Question 2\n",
        "\n",
        "x = input(\"Please enter your first name: \")\n",
        "y = input(\"Please enter your last name: \")\n",
        "\n",
        "full_name = x + \" \" + y\n",
        "print(full_name)"
      ],
      "metadata": {
        "colab": {
          "base_uri": "https://localhost:8080/"
        },
        "id": "KEpP7oS9BN2-",
        "outputId": "89d433fd-7c23-44cd-f98a-c1e2569dbd5c"
      },
      "execution_count": null,
      "outputs": [
        {
          "output_type": "stream",
          "name": "stdout",
          "text": [
            "Please enter your first name: Ahmed\n",
            "Please enter your last name: Bahadir\n",
            "Ahmed Bahadir\n"
          ]
        }
      ]
    },
    {
      "cell_type": "code",
      "source": [
        "# Question 3\n",
        "\n",
        "names = \"Jack\", \"Michael\", \"Matthew\", \"Sean\", \"Omar\", \"Daniel\", \"Joshua\", \"Jacob\", \"John\", \"Ahmed\"\n",
        "scores = 33.9, 42.1, 93.6, 21.5, 67.6, 44.3, 99.9, 10.9, 23.2, 51.2\n",
        "\n",
        "names_tuple = (\"Jack\", \"Michael\", \"Matthew\", \"Sean\", \"Omar\", \"Daniel\", \"Joshua\", \"Jacob\", \"John\", \"Ahmed\")\n",
        "scores_tuple = (33.9, 42.1, 93.6, 21.5, 67.6, 44.3, 99.9, 10.9, 23.2, 51.2)\n",
        "\n",
        "counter = 0\n",
        "while counter != len(names):\n",
        "  z = names[counter]\n",
        "  print(z[0])\n",
        "  counter += 1\n",
        "\n",
        "print()\n",
        "\n",
        "counter_second = 0\n",
        "sum = 0\n",
        "while counter_second < len(scores_tuple):\n",
        "  b = scores_tuple[counter_second]\n",
        "  sum += b\n",
        "  counter_second += 1\n",
        "\n",
        "d = sum / len(scores_tuple)\n",
        "\n",
        "print(f'    Sum: {sum}') # I want to mention that the answer isn't rounding\n",
        "print(f'Average: {d}')   # to the correct place. The answer is 488.2 for the sum\n",
        "                         # and 48.82 for the average."
      ],
      "metadata": {
        "colab": {
          "base_uri": "https://localhost:8080/"
        },
        "id": "o4aQeGljBfho",
        "outputId": "9107658b-8bc4-465f-b58d-1251f236d93c"
      },
      "execution_count": null,
      "outputs": [
        {
          "output_type": "stream",
          "name": "stdout",
          "text": [
            "J\n",
            "M\n",
            "M\n",
            "S\n",
            "O\n",
            "D\n",
            "J\n",
            "J\n",
            "J\n",
            "A\n",
            "\n",
            "    Sum: 488.19999999999993\n",
            "Average: 48.81999999999999\n"
          ]
        }
      ]
    },
    {
      "cell_type": "code",
      "source": [
        "# Question 4\n",
        "\n",
        "counter = 0\n",
        "while counter < 5:\n",
        "  a = float(input(\"Please enter your height (in cm): \"))\n",
        "  b = float(input(\"Please enter your weight (in kg): \"))\n",
        "  inches = a / 2.54\n",
        "  lbs = b * 2.20462\n",
        "  bmi = (lbs/(inches * inches)) * 703\n",
        "  print(f\"Your BMI is {bmi:.2f}!\")\n",
        "  counter += 1\n",
        "  print()\n"
      ],
      "metadata": {
        "colab": {
          "base_uri": "https://localhost:8080/"
        },
        "id": "wiDokgb8FdAU",
        "outputId": "d7d2b485-531d-4463-c5b0-cf47a8fe553e"
      },
      "execution_count": null,
      "outputs": [
        {
          "output_type": "stream",
          "name": "stdout",
          "text": [
            "Please enter your height (in cm): 189\n",
            "Please enter your weight (in kg): 85\n",
            "Your BMI is 23.79!\n",
            "\n",
            "Please enter your height (in cm): 192\n",
            "Please enter your weight (in kg): 96\n",
            "Your BMI is 26.04!\n",
            "\n",
            "Please enter your height (in cm): 210\n",
            "Please enter your weight (in kg): 108\n",
            "Your BMI is 24.49!\n",
            "\n",
            "Please enter your height (in cm): 178\n",
            "Please enter your weight (in kg): 72\n",
            "Your BMI is 22.72!\n",
            "\n",
            "Please enter your height (in cm): 159\n",
            "Please enter your weight (in kg): 68\n",
            "Your BMI is 26.89!\n",
            "\n"
          ]
        }
      ]
    },
    {
      "cell_type": "code",
      "source": [
        "# Question 7\n",
        "\n",
        "T = (4,8,9,6)\n",
        "L = [] # creating an empty list and assign it to variable L\n",
        "\n",
        "i = 0\n",
        "while len(L) < len(T): # It has to be less than, L is empty, while T already has 4 variables.\n",
        "  L.append(T[i])\n",
        "  i += 1\n",
        "\n",
        "print(L) "
      ],
      "metadata": {
        "colab": {
          "base_uri": "https://localhost:8080/"
        },
        "id": "wZfnZrD_FeYW",
        "outputId": "b9180293-926a-4e59-b059-e9b3e4514ff6"
      },
      "execution_count": null,
      "outputs": [
        {
          "output_type": "stream",
          "name": "stdout",
          "text": [
            "[4, 8, 9, 6]\n"
          ]
        }
      ]
    },
    {
      "cell_type": "code",
      "source": [
        "# Question 8\n",
        "\n",
        "word = 'interest'\n",
        "Counter = list(word) # It would be wrong to write tuple, you cannot modulate or modify a tuple.\n",
        "\n",
        "i = 0\n",
        "while i < 4:\n",
        "  char = input('Please input a character: ')\n",
        "  Counter.append(char)\n",
        "  i += 1\n",
        "\n",
        "a = \"\".join(Counter)\n",
        "print(a)\n"
      ],
      "metadata": {
        "colab": {
          "base_uri": "https://localhost:8080/"
        },
        "id": "lH8Q2_ZTOcdA",
        "outputId": "6222823c-0f6a-465b-cee0-52690841f0e8"
      },
      "execution_count": null,
      "outputs": [
        {
          "output_type": "stream",
          "name": "stdout",
          "text": [
            "Please input a character: i\n",
            "Please input a character: n\n",
            "Please input a character: g\n",
            "Please input a character: .\n",
            "interesting.\n"
          ]
        }
      ]
    }
  ]
}