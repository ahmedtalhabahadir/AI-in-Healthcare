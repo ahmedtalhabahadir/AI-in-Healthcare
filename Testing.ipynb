{
  "nbformat": 4,
  "nbformat_minor": 0,
  "metadata": {
    "colab": {
      "name": "Testing.ipynb",
      "provenance": [],
      "collapsed_sections": [],
      "authorship_tag": "ABX9TyNbr6KZ2WcaWDZmTUpp4dC6",
      "include_colab_link": true
    },
    "kernelspec": {
      "name": "python3",
      "display_name": "Python 3"
    },
    "language_info": {
      "name": "python"
    }
  },
  "cells": [
    {
      "cell_type": "markdown",
      "metadata": {
        "id": "view-in-github",
        "colab_type": "text"
      },
      "source": [
        "<a href=\"https://colab.research.google.com/github/ahmedtalhabahadir/AI-in-Healthcare/blob/main/Testing.ipynb\" target=\"_parent\"><img src=\"https://colab.research.google.com/assets/colab-badge.svg\" alt=\"Open In Colab\"/></a>"
      ]
    },
    {
      "cell_type": "markdown",
      "source": [
        "#**Introduction:**\n",
        "***\n",
        "Hello, my name is Ahmed Talha Bahadir. <br>\n",
        "How much wood would a woodchuck chuck if a woodchuck could chuck wood. <br>\n",
        "Want to know more about Python? [Click here.](https://en.wikipedia.org/wiki/Python_(programming_language))"
      ],
      "metadata": {
        "id": "zEKAGpd-A3ts"
      }
    },
    {
      "cell_type": "code",
      "source": [
        "q = int(input(\"HEY MAN! How much is 100 - 99, and then * 100? \"))\n",
        "if q == 100:\n",
        "  print(\"WOW! AMAZING JOB!\")\n",
        "else:\n",
        "  print(\"SORRY BUD, THAT'S THE WRONG ANSWER!\")"
      ],
      "metadata": {
        "id": "RAdPLwMPAmJI",
        "colab": {
          "base_uri": "https://localhost:8080/"
        },
        "outputId": "0f4cf0f6-08c9-4fbb-d016-7cd640c22b2e"
      },
      "execution_count": null,
      "outputs": [
        {
          "output_type": "stream",
          "name": "stdout",
          "text": [
            "HEY MAN! How much is 100 - 99, and then * 100? 100\n",
            "WOW! AMAZING JOB!\n"
          ]
        }
      ]
    },
    {
      "cell_type": "code",
      "source": [
        "x = 1\n",
        "x += 1\n",
        "x"
      ],
      "metadata": {
        "colab": {
          "base_uri": "https://localhost:8080/"
        },
        "id": "NqJv13ISDYn1",
        "outputId": "1df8ffbe-ea71-4381-c91d-5783359dc8b8"
      },
      "execution_count": null,
      "outputs": [
        {
          "output_type": "execute_result",
          "data": {
            "text/plain": [
              "2"
            ]
          },
          "metadata": {},
          "execution_count": 8
        }
      ]
    },
    {
      "cell_type": "code",
      "source": [
        "a = input(\"HELLO! What is your name dear friend? \")\n",
        "print(\"WOW! NICE TO MEET YOU, \" + a + \"!\")"
      ],
      "metadata": {
        "colab": {
          "base_uri": "https://localhost:8080/"
        },
        "id": "IMo7uRe3Dv3y",
        "outputId": "08aa72dc-d47c-4f32-be50-0ba6cb08fabb"
      },
      "execution_count": null,
      "outputs": [
        {
          "output_type": "stream",
          "name": "stdout",
          "text": [
            "HELLO! What is your name dear friend? Ahmed Bahadir\n",
            "WOW! NICE TO MEET YOU, Ahmed Bahadir!\n"
          ]
        }
      ]
    }
  ]
}